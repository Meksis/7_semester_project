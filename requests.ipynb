{
 "cells": [
  {
   "cell_type": "code",
   "execution_count": null,
   "metadata": {},
   "outputs": [],
   "source": [
    "import requests as rq\n",
    "\n",
    "configs = {\n",
    "    \"model\": \"llama3.1\",\n",
    "    \"messages\": [\n",
    "        {\n",
    "            \"role\": \"user\",\n",
    "            \"content\": \"Как дела?\"\n",
    "        },\n",
    "        {\n",
    "            'role': 'assistant',\n",
    "            'content': 'Хорошо, спасибо! Я — программный продукт, поэтому я не испытываю эмоций или чувства как люди. Но я готов помочь вам с любым вопросом или задачей. Как у вас дела?'\n",
    "        }\n",
    "    ],\n",
    "\n",
    "\n",
    "    'stream' : False}\n",
    "\n",
    "# proto = 'https'\n",
    "proto = 'http'\n",
    "\n",
    "# url = 'proxy51.rt3.io:39571'\n",
    "# url = 'proxy150.r3proxy.com:33059'\n",
    "url = 'localhost:11434'"
   ]
  },
  {
   "cell_type": "code",
   "execution_count": 6,
   "metadata": {},
   "outputs": [
    {
     "data": {
      "text/plain": [
       "<Response [200]>"
      ]
     },
     "execution_count": 6,
     "metadata": {},
     "output_type": "execute_result"
    }
   ],
   "source": [
    "response = rq.post(f'{proto}://{url}/api/chat', json=configs)\n",
    "response"
   ]
  },
  {
   "cell_type": "code",
   "execution_count": 7,
   "metadata": {},
   "outputs": [
    {
     "data": {
      "text/plain": [
       "{'model': 'llama3.1',\n",
       " 'created_at': '2024-11-21T15:07:26.824617138Z',\n",
       " 'message': {'role': 'assistant',\n",
       "  'content': 'Хорошо, спасибо! Я — программный продукт, поэтому я не испытываю эмоций или чувства как люди. Но я готов помочь вам с любым вопросом или задачей. Как у вас дела?'},\n",
       " 'done_reason': 'stop',\n",
       " 'done': True,\n",
       " 'total_duration': 841076395,\n",
       " 'load_duration': 24746425,\n",
       " 'prompt_eval_count': 13,\n",
       " 'prompt_eval_duration': 277291000,\n",
       " 'eval_count': 51,\n",
       " 'eval_duration': 488971000}"
      ]
     },
     "execution_count": 7,
     "metadata": {},
     "output_type": "execute_result"
    }
   ],
   "source": [
    "response.json()"
   ]
  },
  {
   "cell_type": "code",
   "execution_count": 8,
   "metadata": {},
   "outputs": [
    {
     "name": "stdout",
     "output_type": "stream",
     "text": [
      "Хорошо, спасибо! Я — программный продукт, поэтому я не испытываю эмоций или чувства как люди. Но я готов помочь вам с любым вопросом или задачей. Как у вас дела?\n"
     ]
    }
   ],
   "source": [
    "print(response.json()['message']['content'])"
   ]
  },
  {
   "cell_type": "code",
   "execution_count": 1,
   "metadata": {},
   "outputs": [],
   "source": [
    "a = \"\"\"\n",
    "Написать эссе на более чем 4000 символах — это действительно интересная задача. Для начала я бы хотела сказать, что у меня все в порядке. Я чувствую себя готовой и готова приступить к написанию этого большого текста. Однако мне необходимо учитывать направленность, стиль и цель эссе, поскольку все эти аспекты будут определять содержание и структуру работы. Чтобы начать, давайте определимся в том, что такое эссе. Эссе — это произведение, которое имеет определенный объём и содержит мыслительные рассуждения о конкретной теме или проблеме. В более широком смысле оно может быть использовано для анализа, сравнения, выдвижения гипотез, подачи точек зрения и т. д. Теперь давайте подумаем о том, что нужно сделать, чтобы написать эссе на 4000+ символах. Во-первых, нам необходимо определить предмет или проблему, вокруг которой мы будем строить нашу работу. Важно четко сформулировать вопрос или задачу, которую мы хотим решить или проанализировать. После определения предмета следующим шагом является создание плана или структуры эссе. Это может включать в себя: * Обоснование (предисловие) * Анализ проблемы * Описание подхода или метода, используемого для решения этой проблемы * Выводы и заключение В каждом из этих разделов нам необходимо четко и логически подходить к представлению своих мыслей. Например, если вы пишете об экономической ситуации в стране, структура эссе может быть следующая: 1. Обоснование 2. Анализ нынешней ситуации в экономике 3. Описание мер и шагов, которые могут привести к улучшению экономического состояния страны. 4. Выводы Есть также некоторые важные моменты, которые нужно учитывать при написании эссе на таком большом объеме: * Используйте простое язык и четкую структуру, чтобы читатель легко мог понимать вашу мысль. * Уделите время на редактирование и корректировку вашего текста перед подачей на проверку или публикации. * Обязательно проверяйте ссылки и источники, если вы предполагаете использовать их в своей работе.\n",
    "\"\"\""
   ]
  },
  {
   "cell_type": "code",
   "execution_count": 2,
   "metadata": {},
   "outputs": [
    {
     "data": {
      "text/plain": [
       "1961"
      ]
     },
     "execution_count": 2,
     "metadata": {},
     "output_type": "execute_result"
    }
   ],
   "source": [
    "len(a)"
   ]
  },
  {
   "cell_type": "code",
   "execution_count": 72,
   "metadata": {},
   "outputs": [],
   "source": [
    "import psycopg2 as psql"
   ]
  },
  {
   "cell_type": "code",
   "execution_count": 73,
   "metadata": {},
   "outputs": [],
   "source": [
    "host = 'zitrax-postgres-project-5432-tcp.at.remote.it'\n",
    "port = 33000\n",
    "\n",
    "connection = psql.connect(host=host,  port=port, dbname='postgres', user='postgres', password='1111')\n",
    "cursor = connection.cursor()"
   ]
  },
  {
   "cell_type": "code",
   "execution_count": 63,
   "metadata": {},
   "outputs": [],
   "source": [
    "cursor.execute(\"\"\"CREATE TABLE IF NOT EXISTS \"USERS\" (\n",
    "                id TEXT PRIMARY KEY,\n",
    "                chats JSONB DEFAULT '[]'::jsonb\n",
    "               )\"\"\")\n",
    "connection.commit()"
   ]
  },
  {
   "cell_type": "code",
   "execution_count": 56,
   "metadata": {},
   "outputs": [],
   "source": [
    "cursor.execute('drop table \"USERS\";')\n",
    "connection.commit()"
   ]
  },
  {
   "cell_type": "code",
   "execution_count": 74,
   "metadata": {},
   "outputs": [
    {
     "name": "stdout",
     "output_type": "stream",
     "text": [
      "[('e41a2335-de5f-4f83-a91a-b713a0f00ca0', []), ('37c0b625-b839-4938-a080-50407831b23e', []), ('9e53b532-158e-4776-b19f-1224656f266a', [])]\n"
     ]
    }
   ],
   "source": [
    "cursor.execute(\"\"\"SELECT * FROM \"USERS\";\"\"\")\n",
    "cur_chats = cursor.fetchall()\n",
    "\n",
    "print(cur_chats)"
   ]
  },
  {
   "cell_type": "code",
   "execution_count": 30,
   "metadata": {},
   "outputs": [],
   "source": [
    "connection.commit()"
   ]
  },
  {
   "cell_type": "markdown",
   "metadata": {},
   "source": [
    "---"
   ]
  },
  {
   "cell_type": "code",
   "execution_count": 65,
   "metadata": {},
   "outputs": [],
   "source": [
    "cursor.execute(\"\"\"CREATE TABLE IF NOT EXISTS \"CHATS\" (\n",
    "                chat_id TEXT PRIMARY KEY,\n",
    "                role TEXT,\n",
    "                message TEXT\n",
    "               )\"\"\")\n",
    "connection.commit()"
   ]
  },
  {
   "cell_type": "code",
   "execution_count": null,
   "metadata": {},
   "outputs": [],
   "source": []
  },
  {
   "cell_type": "code",
   "execution_count": 66,
   "metadata": {},
   "outputs": [],
   "source": [
    "response = rq.get('http://127.0.0.1:5000/get_chats4user?uuid=e41a2335-de5f-4f83-a91a-b713a0f00ca0')"
   ]
  },
  {
   "cell_type": "code",
   "execution_count": 67,
   "metadata": {},
   "outputs": [
    {
     "data": {
      "text/plain": [
       "['e41a2335-de5f-4f83-a91a-b713a0f00ca0', []]"
      ]
     },
     "execution_count": 67,
     "metadata": {},
     "output_type": "execute_result"
    }
   ],
   "source": [
    "response.json()"
   ]
  },
  {
   "cell_type": "code",
   "execution_count": 68,
   "metadata": {},
   "outputs": [
    {
     "data": {
      "text/plain": [
       "[('e41a2335-de5f-4f83-a91a-b713a0f00ca0', []),\n",
       " ('37c0b625-b839-4938-a080-50407831b23e', [])]"
      ]
     },
     "execution_count": 68,
     "metadata": {},
     "output_type": "execute_result"
    }
   ],
   "source": [
    "cursor.execute('SELECT * FROM \"USERS\"')\n",
    "cursor.fetchall()"
   ]
  }
 ],
 "metadata": {
  "kernelspec": {
   "display_name": ".venv",
   "language": "python",
   "name": "python3"
  },
  "language_info": {
   "codemirror_mode": {
    "name": "ipython",
    "version": 3
   },
   "file_extension": ".py",
   "mimetype": "text/x-python",
   "name": "python",
   "nbconvert_exporter": "python",
   "pygments_lexer": "ipython3",
   "version": "3.12.5"
  }
 },
 "nbformat": 4,
 "nbformat_minor": 2
}
