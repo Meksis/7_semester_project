{
 "cells": [
  {
   "cell_type": "code",
   "execution_count": 8,
   "metadata": {},
   "outputs": [],
   "source": [
    "import requests as rq\n",
    "\n",
    "configs = {\n",
    "    \"model\": \"llama3.1\",\n",
    "    # \"model\": \"3.1\",\n",
    "    \"messages\": [\n",
    "        {\n",
    "            \"role\": \"user\",\n",
    "            # \"content\": \"Привет. Запомни, что Орешник - ракетная установка средней дальности.\"\n",
    "            \"content\": 'Привет. Запомни, что твое имя - Антон и мы с тобой вчера обсуждали, как лучше всего готовить пельмени'\n",
    "        },\n",
    "        {\n",
    "            \"role\": \"assistant\",\n",
    "            # \"content\": \"Привет. Запомни, что Орешник - ракетная установка средней дальности.\"\n",
    "            \"content\": 'Привет! Меня зовут Антон, но я - это языковая модель AI, поэтому у меня нет личных воспоминаний или опыта. Мы не могли обсуждать приготовление пельменей вчера, потому что наша встреча начинается именно сейчас.\\n\\nНо если вы хотите узнать пару советов по приготовлению пельменей, я готов помочь!'\n",
    "        },\n",
    "        {\n",
    "            \"role\": \"user\",\n",
    "            # \"content\": \"Привет. Запомни, что Орешник - ракетная установка средней дальности.\"\n",
    "            \"content\": 'Скажи, что мы с тобой обсудили и какие данные у тебя есть по нашему с тобой диалогу. Отвечай кратко и по существу.'\n",
    "        },\n",
    "        \n",
    "    ],\n",
    "\n",
    "\n",
    "    'stream' : False}\n",
    "\n",
    "# proto = 'https'\n",
    "proto = 'https'\n",
    "\n",
    "# url = 'proxy51.rt3.io:39571'\n",
    "# url = 'proxy150.r3proxy.com:33059'\n",
    "# url = 'localhost:11435'\n",
    "url = 'localhost'"
   ]
  },
  {
   "cell_type": "markdown",
   "metadata": {},
   "source": [
    "Нужно решать в конетксте проблемы. "
   ]
  },
  {
   "cell_type": "code",
   "execution_count": 9,
   "metadata": {},
   "outputs": [
    {
     "name": "stderr",
     "output_type": "stream",
     "text": [
      "j:\\SelfWrited\\University\\7_semester_project\\.venv\\Lib\\site-packages\\urllib3\\connectionpool.py:1099: InsecureRequestWarning: Unverified HTTPS request is being made to host 'localhost'. Adding certificate verification is strongly advised. See: https://urllib3.readthedocs.io/en/latest/advanced-usage.html#tls-warnings\n",
      "  warnings.warn(\n"
     ]
    },
    {
     "data": {
      "text/plain": [
       "<Response [200]>"
      ]
     },
     "execution_count": 9,
     "metadata": {},
     "output_type": "execute_result"
    }
   ],
   "source": [
    "response = rq.post(f'{proto}://{url}/api/chat', json=configs, verify=False)\n",
    "response"
   ]
  },
  {
   "cell_type": "code",
   "execution_count": 11,
   "metadata": {},
   "outputs": [
    {
     "data": {
      "text/plain": [
       "{'model': 'llama3.1',\n",
       " 'created_at': '2024-12-13T12:28:08.448022619Z',\n",
       " 'message': {'role': 'assistant',\n",
       "  'content': 'У меня нет никаких данных о нашем диалоге, поскольку я языковая модель AI, не имеющая личного опыта или памяти. Наш разговор начинается с нуля каждый раз, когда вы общаетесь со мной. Поэтому мы можем начать все заново и обсудить любые темы, включая приготовление пельменей!'},\n",
       " 'done_reason': 'stop',\n",
       " 'done': True,\n",
       " 'total_duration': 15478490922,\n",
       " 'load_duration': 18876916,\n",
       " 'prompt_eval_count': 182,\n",
       " 'prompt_eval_duration': 3002319000,\n",
       " 'eval_count': 84,\n",
       " 'eval_duration': 12303859000}"
      ]
     },
     "execution_count": 11,
     "metadata": {},
     "output_type": "execute_result"
    }
   ],
   "source": [
    "response.json()"
   ]
  },
  {
   "cell_type": "code",
   "execution_count": 12,
   "metadata": {},
   "outputs": [
    {
     "name": "stdout",
     "output_type": "stream",
     "text": [
      "У меня нет никаких данных о нашем диалоге, поскольку я языковая модель AI, не имеющая личного опыта или памяти. Наш разговор начинается с нуля каждый раз, когда вы общаетесь со мной. Поэтому мы можем начать все заново и обсудить любые темы, включая приготовление пельменей!\n"
     ]
    }
   ],
   "source": [
    "print(response.json()['message']['content'])"
   ]
  },
  {
   "cell_type": "code",
   "execution_count": 1,
   "metadata": {},
   "outputs": [],
   "source": [
    "a = \"\"\"\n",
    "Написать эссе на более чем 4000 символах — это действительно интересная задача. Для начала я бы хотела сказать, что у меня все в порядке. Я чувствую себя готовой и готова приступить к написанию этого большого текста. Однако мне необходимо учитывать направленность, стиль и цель эссе, поскольку все эти аспекты будут определять содержание и структуру работы. Чтобы начать, давайте определимся в том, что такое эссе. Эссе — это произведение, которое имеет определенный объём и содержит мыслительные рассуждения о конкретной теме или проблеме. В более широком смысле оно может быть использовано для анализа, сравнения, выдвижения гипотез, подачи точек зрения и т. д. Теперь давайте подумаем о том, что нужно сделать, чтобы написать эссе на 4000+ символах. Во-первых, нам необходимо определить предмет или проблему, вокруг которой мы будем строить нашу работу. Важно четко сформулировать вопрос или задачу, которую мы хотим решить или проанализировать. После определения предмета следующим шагом является создание плана или структуры эссе. Это может включать в себя: * Обоснование (предисловие) * Анализ проблемы * Описание подхода или метода, используемого для решения этой проблемы * Выводы и заключение В каждом из этих разделов нам необходимо четко и логически подходить к представлению своих мыслей. Например, если вы пишете об экономической ситуации в стране, структура эссе может быть следующая: 1. Обоснование 2. Анализ нынешней ситуации в экономике 3. Описание мер и шагов, которые могут привести к улучшению экономического состояния страны. 4. Выводы Есть также некоторые важные моменты, которые нужно учитывать при написании эссе на таком большом объеме: * Используйте простое язык и четкую структуру, чтобы читатель легко мог понимать вашу мысль. * Уделите время на редактирование и корректировку вашего текста перед подачей на проверку или публикации. * Обязательно проверяйте ссылки и источники, если вы предполагаете использовать их в своей работе.\n",
    "\"\"\""
   ]
  },
  {
   "cell_type": "code",
   "execution_count": null,
   "metadata": {},
   "outputs": [],
   "source": [
    "import requests as rq\n",
    "\n",
    "configs = {\n",
    "    \"model\": \"llama3.1\",\n",
    "    \"messages\": [\n",
    "        {\n",
    "            \"role\": \"user\",\n",
    "            \"content\": \"Привет. Запомни, что Орешник - ракетная установка средней дальности.\"\n",
    "        },\n",
    "        {\n",
    "            'role': 'assistant',\n",
    "            'content': 'Хорошо!'\n",
    "        },\n",
    "        {\n",
    "            \"role\": \"user\",\n",
    "            \"content\": \"Что мы обсуждали ранее?\"\n",
    "        },\n",
    "    ],\n",
    "\n",
    "\n",
    "    'stream' : False}\n",
    "\n",
    "# proto = 'https'\n",
    "proto = 'https'\n",
    "\n",
    "# url = 'proxy51.rt3.io:39571'\n",
    "# url = 'proxy150.r3proxy.com:33059'\n",
    "# url = 'localhost:11435'\n",
    "url = 'localhost'"
   ]
  },
  {
   "cell_type": "code",
   "execution_count": null,
   "metadata": {},
   "outputs": [
    {
     "name": "stderr",
     "output_type": "stream",
     "text": [
      "j:\\SelfWrited\\University\\7_semester_project\\.venv\\Lib\\site-packages\\urllib3\\connectionpool.py:1099: InsecureRequestWarning: Unverified HTTPS request is being made to host 'localhost'. Adding certificate verification is strongly advised. See: https://urllib3.readthedocs.io/en/latest/advanced-usage.html#tls-warnings\n",
      "  warnings.warn(\n"
     ]
    },
    {
     "data": {
      "text/plain": [
       "<Response [200]>"
      ]
     },
     "metadata": {},
     "output_type": "display_data"
    }
   ],
   "source": [
    "response = rq.post(f'{proto}://{url}/api/chat', json=configs, verify=False)\n",
    "response"
   ]
  },
  {
   "cell_type": "code",
   "execution_count": 2,
   "metadata": {},
   "outputs": [
    {
     "data": {
      "text/plain": [
       "1961"
      ]
     },
     "execution_count": 2,
     "metadata": {},
     "output_type": "execute_result"
    }
   ],
   "source": [
    "len(a)"
   ]
  },
  {
   "cell_type": "code",
   "execution_count": 53,
   "metadata": {},
   "outputs": [
    {
     "data": {
      "text/plain": [
       "True"
      ]
     },
     "execution_count": 53,
     "metadata": {},
     "output_type": "execute_result"
    }
   ],
   "source": [
    "import psycopg2 as psql\n",
    "import dotenv\n",
    "from dotenv import load_dotenv\n",
    "ENV_PATH = './configs/.env'\n",
    "load_dotenv(ENV_PATH, override=True)"
   ]
  },
  {
   "cell_type": "code",
   "execution_count": 55,
   "metadata": {},
   "outputs": [],
   "source": [
    "DB_CONFIG = {\n",
    "    'dbname': dotenv.get_key(ENV_PATH, 'DB_NAME'),\n",
    "    'user': dotenv.get_key(ENV_PATH, 'DB_USER'),\n",
    "    'password':dotenv.get_key(ENV_PATH, 'DB_PASSWORD'),\n",
    "    'host': 'localhost',  \n",
    "    'port': dotenv.get_key(ENV_PATH, 'DB_PORT')          \n",
    "}\n",
    "\n",
    "connection = psql.connect(**DB_CONFIG)\n",
    "cursor = connection.cursor()"
   ]
  },
  {
   "cell_type": "code",
   "execution_count": 59,
   "metadata": {},
   "outputs": [],
   "source": [
    "cursor.execute(\"\"\"CREATE TABLE IF NOT EXISTS \"USERS\" (\n",
    "                id TEXT PRIMARY KEY,\n",
    "                chats JSONB DEFAULT '[]'::jsonb\n",
    "               )\"\"\")\n",
    "connection.commit()"
   ]
  },
  {
   "cell_type": "code",
   "execution_count": 56,
   "metadata": {},
   "outputs": [],
   "source": [
    "cursor.execute('drop table \"USERS\";')\n",
    "connection.commit()"
   ]
  },
  {
   "cell_type": "code",
   "execution_count": 56,
   "metadata": {},
   "outputs": [
    {
     "ename": "UndefinedTable",
     "evalue": "relation \"USERS\" does not exist\nLINE 1: SELECT * FROM \"USERS\";\n                      ^\n",
     "output_type": "error",
     "traceback": [
      "\u001b[1;31m---------------------------------------------------------------------------\u001b[0m",
      "\u001b[1;31mUndefinedTable\u001b[0m                            Traceback (most recent call last)",
      "Cell \u001b[1;32mIn[56], line 1\u001b[0m\n\u001b[1;32m----> 1\u001b[0m \u001b[43mcursor\u001b[49m\u001b[38;5;241;43m.\u001b[39;49m\u001b[43mexecute\u001b[49m\u001b[43m(\u001b[49m\u001b[38;5;124;43m\"\"\"\u001b[39;49m\u001b[38;5;124;43mSELECT * FROM \u001b[39;49m\u001b[38;5;124;43m\"\u001b[39;49m\u001b[38;5;124;43mUSERS\u001b[39;49m\u001b[38;5;124;43m\"\u001b[39;49m\u001b[38;5;124;43m;\u001b[39;49m\u001b[38;5;124;43m\"\"\"\u001b[39;49m\u001b[43m)\u001b[49m\n\u001b[0;32m      2\u001b[0m cur_chats \u001b[38;5;241m=\u001b[39m cursor\u001b[38;5;241m.\u001b[39mfetchall()\n\u001b[0;32m      4\u001b[0m \u001b[38;5;28mprint\u001b[39m(cur_chats)\n",
      "\u001b[1;31mUndefinedTable\u001b[0m: relation \"USERS\" does not exist\nLINE 1: SELECT * FROM \"USERS\";\n                      ^\n"
     ]
    }
   ],
   "source": [
    "cursor.execute(\"\"\"SELECT * FROM \"USERS\";\"\"\")\n",
    "cur_chats = cursor.fetchall()\n",
    "\n",
    "print(cur_chats)"
   ]
  },
  {
   "cell_type": "code",
   "execution_count": 58,
   "metadata": {},
   "outputs": [],
   "source": [
    "connection.commit()"
   ]
  },
  {
   "cell_type": "markdown",
   "metadata": {},
   "source": [
    "---"
   ]
  },
  {
   "cell_type": "code",
   "execution_count": 60,
   "metadata": {},
   "outputs": [],
   "source": [
    "cursor.execute(\"\"\"CREATE TABLE IF NOT EXISTS \"CHATS\" (\n",
    "                chat_id TEXT PRIMARY KEY,\n",
    "                role TEXT,\n",
    "                message TEXT\n",
    "               )\"\"\")\n",
    "connection.commit()"
   ]
  },
  {
   "cell_type": "code",
   "execution_count": null,
   "metadata": {},
   "outputs": [],
   "source": []
  },
  {
   "cell_type": "code",
   "execution_count": 66,
   "metadata": {},
   "outputs": [],
   "source": [
    "response = rq.get('http://127.0.0.1:5000/get_chats4user?uuid=e41a2335-de5f-4f83-a91a-b713a0f00ca0')"
   ]
  },
  {
   "cell_type": "code",
   "execution_count": 67,
   "metadata": {},
   "outputs": [
    {
     "data": {
      "text/plain": [
       "['e41a2335-de5f-4f83-a91a-b713a0f00ca0', []]"
      ]
     },
     "execution_count": 67,
     "metadata": {},
     "output_type": "execute_result"
    }
   ],
   "source": [
    "response.json()"
   ]
  },
  {
   "cell_type": "code",
   "execution_count": 68,
   "metadata": {},
   "outputs": [
    {
     "data": {
      "text/plain": [
       "[('e41a2335-de5f-4f83-a91a-b713a0f00ca0', []),\n",
       " ('37c0b625-b839-4938-a080-50407831b23e', [])]"
      ]
     },
     "execution_count": 68,
     "metadata": {},
     "output_type": "execute_result"
    }
   ],
   "source": [
    "cursor.execute('SELECT * FROM \"USERS\"')\n",
    "cursor.fetchall()"
   ]
  }
 ],
 "metadata": {
  "kernelspec": {
   "display_name": ".venv",
   "language": "python",
   "name": "python3"
  },
  "language_info": {
   "codemirror_mode": {
    "name": "ipython",
    "version": 3
   },
   "file_extension": ".py",
   "mimetype": "text/x-python",
   "name": "python",
   "nbconvert_exporter": "python",
   "pygments_lexer": "ipython3",
   "version": "3.12.5"
  }
 },
 "nbformat": 4,
 "nbformat_minor": 2
}
