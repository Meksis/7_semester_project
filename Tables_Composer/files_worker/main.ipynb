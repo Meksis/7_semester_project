{
 "cells": [
  {
   "cell_type": "code",
   "execution_count": 1,
   "metadata": {},
   "outputs": [],
   "source": [
    "import pandas as pd\n",
    "# from dotenv import load_dotenv, get_key\n",
    "import os"
   ]
  },
  {
   "cell_type": "code",
   "execution_count": 2,
   "metadata": {},
   "outputs": [],
   "source": [
    "tables_path = '../Other_Files/Таблицы'\n",
    "tables = [filename for filename in os.listdir(tables_path) if os.path.isfile(f'{tables_path}/{filename}')]"
   ]
  },
  {
   "cell_type": "code",
   "execution_count": 3,
   "metadata": {},
   "outputs": [
    {
     "data": {
      "text/plain": [
       "['Cemetery.xlsx',\n",
       " 'Education.xlsx',\n",
       " 'Health.xlsx',\n",
       " 'Heritage.xlsx',\n",
       " 'HeritageArea.xlsx',\n",
       " 'Social.xlsx',\n",
       " 'Sport.xlsx']"
      ]
     },
     "execution_count": 3,
     "metadata": {},
     "output_type": "execute_result"
    }
   ],
   "source": [
    "tables"
   ]
  },
  {
   "cell_type": "code",
   "execution_count": null,
   "metadata": {},
   "outputs": [],
   "source": [
    "# df = pd.read_excel(f'{tables_path}/{tables[0]}')[['CLASSID', 'NAME', 'ADDRESS', 'STATUS', 'REG_STATUS']]"
   ]
  },
  {
   "cell_type": "code",
   "execution_count": null,
   "metadata": {},
   "outputs": [
    {
     "data": {
      "text/html": [
       "<div>\n",
       "<style scoped>\n",
       "    .dataframe tbody tr th:only-of-type {\n",
       "        vertical-align: middle;\n",
       "    }\n",
       "\n",
       "    .dataframe tbody tr th {\n",
       "        vertical-align: top;\n",
       "    }\n",
       "\n",
       "    .dataframe thead th {\n",
       "        text-align: right;\n",
       "    }\n",
       "</style>\n",
       "<table border=\"1\" class=\"dataframe\">\n",
       "  <thead>\n",
       "    <tr style=\"text-align: right;\">\n",
       "      <th></th>\n",
       "      <th>CLASSID</th>\n",
       "      <th>NAME</th>\n",
       "      <th>ADDRESS</th>\n",
       "      <th>STATUS</th>\n",
       "      <th>REG_STATUS</th>\n",
       "    </tr>\n",
       "  </thead>\n",
       "  <tbody>\n",
       "    <tr>\n",
       "      <th>0</th>\n",
       "      <td>602050301</td>\n",
       "      <td>Кладбище №2</td>\n",
       "      <td>Вурнарское шоссе и подъездные пути к кладбищу</td>\n",
       "      <td>1</td>\n",
       "      <td>4</td>\n",
       "    </tr>\n",
       "    <tr>\n",
       "      <th>1</th>\n",
       "      <td>602050301</td>\n",
       "      <td>Кладбище №3</td>\n",
       "      <td>Карачуры-1</td>\n",
       "      <td>1</td>\n",
       "      <td>4</td>\n",
       "    </tr>\n",
       "    <tr>\n",
       "      <th>2</th>\n",
       "      <td>602050301</td>\n",
       "      <td>Клабище №4</td>\n",
       "      <td>Карачуры-2</td>\n",
       "      <td>1</td>\n",
       "      <td>4</td>\n",
       "    </tr>\n",
       "    <tr>\n",
       "      <th>3</th>\n",
       "      <td>602050301</td>\n",
       "      <td>Кладбище №5</td>\n",
       "      <td>Карачуры-3</td>\n",
       "      <td>1</td>\n",
       "      <td>4</td>\n",
       "    </tr>\n",
       "    <tr>\n",
       "      <th>4</th>\n",
       "      <td>602050301</td>\n",
       "      <td>Кладбище №6</td>\n",
       "      <td>г. Чебоксары, ул. Энтузиастов</td>\n",
       "      <td>1</td>\n",
       "      <td>4</td>\n",
       "    </tr>\n",
       "    <tr>\n",
       "      <th>5</th>\n",
       "      <td>602050301</td>\n",
       "      <td>Кладбище №7</td>\n",
       "      <td>г. Чебоксары, ул. Мичммана Павлова</td>\n",
       "      <td>1</td>\n",
       "      <td>4</td>\n",
       "    </tr>\n",
       "    <tr>\n",
       "      <th>6</th>\n",
       "      <td>602050301</td>\n",
       "      <td>Кладбище №8</td>\n",
       "      <td>г. Чебоксары, ул. Калинина</td>\n",
       "      <td>1</td>\n",
       "      <td>4</td>\n",
       "    </tr>\n",
       "    <tr>\n",
       "      <th>7</th>\n",
       "      <td>602050301</td>\n",
       "      <td>Кладбище №9</td>\n",
       "      <td>ГО Чебоксары, пос. Восточный</td>\n",
       "      <td>1</td>\n",
       "      <td>4</td>\n",
       "    </tr>\n",
       "    <tr>\n",
       "      <th>8</th>\n",
       "      <td>602050301</td>\n",
       "      <td>Кладбище №10</td>\n",
       "      <td>г. Чебоксары, пр-т Тракторостроителей</td>\n",
       "      <td>1</td>\n",
       "      <td>4</td>\n",
       "    </tr>\n",
       "    <tr>\n",
       "      <th>9</th>\n",
       "      <td>602050301</td>\n",
       "      <td>Альгешевское кладбище</td>\n",
       "      <td>ГО Чебоксары, пос. Альгешево (Лапсарская промз...</td>\n",
       "      <td>1</td>\n",
       "      <td>4</td>\n",
       "    </tr>\n",
       "    <tr>\n",
       "      <th>10</th>\n",
       "      <td>602050301</td>\n",
       "      <td>Кладбище д. Заовражное</td>\n",
       "      <td>ГО Чебоксары, д. Заовражное, ул. Заовражное</td>\n",
       "      <td>1</td>\n",
       "      <td>4</td>\n",
       "    </tr>\n",
       "    <tr>\n",
       "      <th>11</th>\n",
       "      <td>602050301</td>\n",
       "      <td>Кладбище №1 в пос. Сосновка</td>\n",
       "      <td>ГО Чебоксары, ПГТ Сосновка</td>\n",
       "      <td>1</td>\n",
       "      <td>4</td>\n",
       "    </tr>\n",
       "    <tr>\n",
       "      <th>12</th>\n",
       "      <td>602050301</td>\n",
       "      <td>Кладбище №3</td>\n",
       "      <td>Чебоксарское лесничество, квартал №24</td>\n",
       "      <td>1</td>\n",
       "      <td>4</td>\n",
       "    </tr>\n",
       "    <tr>\n",
       "      <th>13</th>\n",
       "      <td>602050301</td>\n",
       "      <td>Кладбище №2</td>\n",
       "      <td>Чебоксарское лесничество, квартал №24</td>\n",
       "      <td>1</td>\n",
       "      <td>4</td>\n",
       "    </tr>\n",
       "    <tr>\n",
       "      <th>14</th>\n",
       "      <td>602050301</td>\n",
       "      <td>Кладбище №18</td>\n",
       "      <td>ГО Чебоксары</td>\n",
       "      <td>1</td>\n",
       "      <td>4</td>\n",
       "    </tr>\n",
       "    <tr>\n",
       "      <th>15</th>\n",
       "      <td>602050301</td>\n",
       "      <td>Кладбище №17</td>\n",
       "      <td>ГО Чекбоксары</td>\n",
       "      <td>1</td>\n",
       "      <td>4</td>\n",
       "    </tr>\n",
       "    <tr>\n",
       "      <th>16</th>\n",
       "      <td>602050301</td>\n",
       "      <td>Кладбище №1</td>\n",
       "      <td>г. Чебоксары, ул. Богдана Хмельницкого</td>\n",
       "      <td>1</td>\n",
       "      <td>4</td>\n",
       "    </tr>\n",
       "    <tr>\n",
       "      <th>17</th>\n",
       "      <td>602050301</td>\n",
       "      <td>Кладбище №11</td>\n",
       "      <td>ГО Чебоксары</td>\n",
       "      <td>1</td>\n",
       "      <td>4</td>\n",
       "    </tr>\n",
       "    <tr>\n",
       "      <th>18</th>\n",
       "      <td>602050301</td>\n",
       "      <td>Кладбище №12</td>\n",
       "      <td>ГО Чебоксары</td>\n",
       "      <td>1</td>\n",
       "      <td>4</td>\n",
       "    </tr>\n",
       "    <tr>\n",
       "      <th>19</th>\n",
       "      <td>602050301</td>\n",
       "      <td>Кладбище</td>\n",
       "      <td>г. Чебоксары, мкрн. 2 \"А\"  \"Грязевская стрелка...</td>\n",
       "      <td>1</td>\n",
       "      <td>4</td>\n",
       "    </tr>\n",
       "  </tbody>\n",
       "</table>\n",
       "</div>"
      ],
      "text/plain": [
       "      CLASSID                         NAME  \\\n",
       "0   602050301                  Кладбище №2   \n",
       "1   602050301                  Кладбище №3   \n",
       "2   602050301                   Клабище №4   \n",
       "3   602050301                  Кладбище №5   \n",
       "4   602050301                  Кладбище №6   \n",
       "5   602050301                  Кладбище №7   \n",
       "6   602050301                  Кладбище №8   \n",
       "7   602050301                  Кладбище №9   \n",
       "8   602050301                 Кладбище №10   \n",
       "9   602050301        Альгешевское кладбище   \n",
       "10  602050301      Кладбище д. Заовражное    \n",
       "11  602050301  Кладбище №1 в пос. Сосновка   \n",
       "12  602050301                  Кладбище №3   \n",
       "13  602050301                  Кладбище №2   \n",
       "14  602050301                 Кладбище №18   \n",
       "15  602050301                 Кладбище №17   \n",
       "16  602050301                  Кладбище №1   \n",
       "17  602050301                 Кладбище №11   \n",
       "18  602050301                 Кладбище №12   \n",
       "19  602050301                     Кладбище   \n",
       "\n",
       "                                              ADDRESS  STATUS  REG_STATUS  \n",
       "0       Вурнарское шоссе и подъездные пути к кладбищу       1           4  \n",
       "1                                          Карачуры-1       1           4  \n",
       "2                                          Карачуры-2       1           4  \n",
       "3                                          Карачуры-3       1           4  \n",
       "4                       г. Чебоксары, ул. Энтузиастов       1           4  \n",
       "5                  г. Чебоксары, ул. Мичммана Павлова       1           4  \n",
       "6                          г. Чебоксары, ул. Калинина       1           4  \n",
       "7                        ГО Чебоксары, пос. Восточный       1           4  \n",
       "8               г. Чебоксары, пр-т Тракторостроителей       1           4  \n",
       "9   ГО Чебоксары, пос. Альгешево (Лапсарская промз...       1           4  \n",
       "10        ГО Чебоксары, д. Заовражное, ул. Заовражное       1           4  \n",
       "11                         ГО Чебоксары, ПГТ Сосновка       1           4  \n",
       "12              Чебоксарское лесничество, квартал №24       1           4  \n",
       "13              Чебоксарское лесничество, квартал №24       1           4  \n",
       "14                                       ГО Чебоксары       1           4  \n",
       "15                                      ГО Чекбоксары       1           4  \n",
       "16             г. Чебоксары, ул. Богдана Хмельницкого       1           4  \n",
       "17                                       ГО Чебоксары       1           4  \n",
       "18                                       ГО Чебоксары       1           4  \n",
       "19  г. Чебоксары, мкрн. 2 \"А\"  \"Грязевская стрелка...       1           4  "
      ]
     },
     "execution_count": 24,
     "metadata": {},
     "output_type": "execute_result"
    }
   ],
   "source": [
    "# df"
   ]
  },
  {
   "cell_type": "code",
   "execution_count": 4,
   "metadata": {},
   "outputs": [],
   "source": [
    "tables_dfs = {}\n",
    "\n",
    "for table in tables:\n",
    "    df = pd.read_excel(f'{tables_path}/{table}')\n",
    "    df = df[['CLASSID', 'NAME', 'ADDRESS', 'STATUS', 'REG_STATUS']] if 'REG_STATUS' in df.columns else df[['CLASSID', 'NAME', 'ADDRESS', 'STATUS']]\n",
    "\n",
    "    tables_dfs[table.split('.xlsx')[0]] = df"
   ]
  },
  {
   "cell_type": "code",
   "execution_count": 5,
   "metadata": {},
   "outputs": [
    {
     "data": {
      "text/plain": [
       "['Cemetery',\n",
       " 'Education',\n",
       " 'Health',\n",
       " 'Heritage',\n",
       " 'HeritageArea',\n",
       " 'Social',\n",
       " 'Sport']"
      ]
     },
     "execution_count": 5,
     "metadata": {},
     "output_type": "execute_result"
    }
   ],
   "source": [
    "list(tables_dfs.keys())"
   ]
  },
  {
   "cell_type": "markdown",
   "metadata": {},
   "source": [
    "---"
   ]
  },
  {
   "cell_type": "code",
   "execution_count": 11,
   "metadata": {},
   "outputs": [],
   "source": [
    "def join_dfs(df_name: str) -> pd.DataFrame:\n",
    "    statuses = {\n",
    "        1: 'существующий',\n",
    "        2: 'планируемый',\n",
    "        3: 'планируемый к реконструкции',\n",
    "        4: 'планируемый к ликвидации'\n",
    "    }\n",
    "    \n",
    "    try:\n",
    "        df = tables_dfs[df_name]\n",
    "\n",
    "        values = pd.read_excel(f'{tables_path}/Values/{df_name}.xlsx')[1:].rename(columns={'Код объекта' : 'CLASSID'})\n",
    "\n",
    "        joined = df.set_index('CLASSID').join(values[values.columns[:2]].set_index('CLASSID'))\n",
    "        \n",
    "        joined = joined.reset_index()\n",
    "        joined['STATUS'] = joined['STATUS'].replace(statuses)\n",
    "\n",
    "\n",
    "        # print(df)\n",
    "        return(joined)\n",
    "\n",
    "\n",
    "    except:     # Ловим ошибку, когда нет файлов\n",
    "        return False\n"
   ]
  },
  {
   "cell_type": "code",
   "execution_count": null,
   "metadata": {},
   "outputs": [
    {
     "name": "stdout",
     "output_type": "stream",
     "text": [
      "Cemetery True\n",
      "Education True\n",
      "Health True\n",
      "Heritage True\n",
      "HeritageArea True\n",
      "Social True\n",
      "Sport True\n"
     ]
    }
   ],
   "source": [
    "dfs_joined = {}\n",
    "\n",
    "for key, df in tables_dfs.items():\n",
    "    res = join_dfs(key)\n",
    "    print(key, True if not isinstance(res, bool) else res)\n",
    "\n",
    "    dfs_joined[key] = res\n"
   ]
  },
  {
   "cell_type": "code",
   "execution_count": 49,
   "metadata": {},
   "outputs": [
    {
     "name": "stdout",
     "output_type": "stream",
     "text": [
      "|Cemetery|         Все ок\n",
      "|Education|         Все ок\n",
      "|Health|         Все ок\n",
      "|Heritage|         Все ок\n",
      "|HeritageArea|         Все ок\n",
      "|Social|         Все ок\n",
      "|Sport|         Все ок\n"
     ]
    }
   ],
   "source": [
    "for key, df in dfs_joined.items():\n",
    "    print(f\"|{key}|         {'Все ок' if None not in df['Значение'].values else 'ЕСТЬ ПУСТЫЕ ЗНАЧЕНИЯ'}\")"
   ]
  },
  {
   "cell_type": "code",
   "execution_count": 44,
   "metadata": {},
   "outputs": [
    {
     "data": {
      "text/plain": [
       "True"
      ]
     },
     "execution_count": 44,
     "metadata": {},
     "output_type": "execute_result"
    }
   ],
   "source": [
    "None in dfs_joined[list(dfs_joined.keys())[0]]['Значение'].copy().replace({'Кладбище' : None}).values"
   ]
  },
  {
   "cell_type": "code",
   "execution_count": 45,
   "metadata": {},
   "outputs": [
    {
     "data": {
      "text/plain": [
       "False"
      ]
     },
     "execution_count": 45,
     "metadata": {},
     "output_type": "execute_result"
    }
   ],
   "source": [
    "None in dfs_joined[list(dfs_joined.keys())[0]]['Значение'].copy().values"
   ]
  }
 ],
 "metadata": {
  "kernelspec": {
   "display_name": ".venv",
   "language": "python",
   "name": "python3"
  },
  "language_info": {
   "codemirror_mode": {
    "name": "ipython",
    "version": 3
   },
   "file_extension": ".py",
   "mimetype": "text/x-python",
   "name": "python",
   "nbconvert_exporter": "python",
   "pygments_lexer": "ipython3",
   "version": "3.12.5"
  }
 },
 "nbformat": 4,
 "nbformat_minor": 2
}
