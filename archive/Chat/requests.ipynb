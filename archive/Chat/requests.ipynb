{
 "cells": [
  {
   "cell_type": "code",
   "execution_count": 1,
   "metadata": {},
   "outputs": [],
   "source": [
    "import requests as rq\n",
    "\n",
    "configs = {\n",
    "    \"model\": \"llama3.1\",\n",
    "    # \"model\": \"3.1\",\n",
    "    \"messages\": [\n",
    "        {\n",
    "            \"role\": \"user\",\n",
    "            # \"content\": \"Привет. Запомни, что Орешник - ракетная установка средней дальности.\"\n",
    "            \"content\": 'Привет. Запомни, что твое имя - Антон и мы с тобой вчера обсуждали, как лучше всего готовить пельмени'\n",
    "        },\n",
    "        {\n",
    "            \"role\": \"assistant\",\n",
    "            # \"content\": \"Привет. Запомни, что Орешник - ракетная установка средней дальности.\"\n",
    "            \"content\": 'Привет! Меня зовут Антон, но я - это языковая модель AI, поэтому у меня нет личных воспоминаний или опыта. Мы не могли обсуждать приготовление пельменей вчера, потому что наша встреча начинается именно сейчас.\\n\\nНо если вы хотите узнать пару советов по приготовлению пельменей, я готов помочь!'\n",
    "        },\n",
    "        {\n",
    "            \"role\": \"user\",\n",
    "            # \"content\": \"Привет. Запомни, что Орешник - ракетная установка средней дальности.\"\n",
    "            \"content\": 'Скажи, что мы с тобой обсудили и какие данные у тебя есть по нашему с тобой диалогу. Отвечай кратко и по существу.'\n",
    "        },\n",
    "        \n",
    "    ],\n",
    "\n",
    "\n",
    "    'stream' : False}\n",
    "\n",
    "# proto = 'https'\n",
    "proto = 'https'\n",
    "\n",
    "# url = 'proxy51.rt3.io:39571'\n",
    "# url = 'proxy150.r3proxy.com:33059'\n",
    "# url = 'localhost:11435'\n",
    "url = 'zitrax-ollama-carbon.rshare.io/'"
   ]
  },
  {
   "cell_type": "markdown",
   "metadata": {},
   "source": [
    "Нужно решать в конетксте проблемы. "
   ]
  },
  {
   "cell_type": "code",
   "execution_count": 4,
   "metadata": {},
   "outputs": [
    {
     "name": "stderr",
     "output_type": "stream",
     "text": [
      "j:\\SelfWrited\\University\\7_semester_project\\.venv\\Lib\\site-packages\\urllib3\\connectionpool.py:1099: InsecureRequestWarning: Unverified HTTPS request is being made to host 'zitrax-ollama-carbon.rshare.io'. Adding certificate verification is strongly advised. See: https://urllib3.readthedocs.io/en/latest/advanced-usage.html#tls-warnings\n",
      "  warnings.warn(\n"
     ]
    },
    {
     "data": {
      "text/plain": [
       "<Response [200]>"
      ]
     },
     "execution_count": 4,
     "metadata": {},
     "output_type": "execute_result"
    }
   ],
   "source": [
    "response = rq.post(f'{proto}://{url}/api/chat', json=configs, verify=False)\n",
    "response"
   ]
  },
  {
   "cell_type": "code",
   "execution_count": 5,
   "metadata": {},
   "outputs": [
    {
     "data": {
      "text/plain": [
       "{'model': 'llama3.1',\n",
       " 'created_at': '2024-12-24T13:55:55.643251926Z',\n",
       " 'message': {'role': 'assistant',\n",
       "  'content': 'У меня нет никаких данных о наших диалогах или обмена информацией за пределами текущего разговора. Каждый раз, когда вы обращаетесь ко мне, это новый сценарий, и я начинаю все заново.'},\n",
       " 'done_reason': 'stop',\n",
       " 'done': True,\n",
       " 'total_duration': 965083189,\n",
       " 'load_duration': 24631748,\n",
       " 'prompt_eval_count': 182,\n",
       " 'prompt_eval_duration': 16634000,\n",
       " 'eval_count': 57,\n",
       " 'eval_duration': 750730000}"
      ]
     },
     "execution_count": 5,
     "metadata": {},
     "output_type": "execute_result"
    }
   ],
   "source": [
    "response.json()"
   ]
  },
  {
   "cell_type": "code",
   "execution_count": 12,
   "metadata": {},
   "outputs": [
    {
     "name": "stdout",
     "output_type": "stream",
     "text": [
      "У меня нет никаких данных о нашем диалоге, поскольку я языковая модель AI, не имеющая личного опыта или памяти. Наш разговор начинается с нуля каждый раз, когда вы общаетесь со мной. Поэтому мы можем начать все заново и обсудить любые темы, включая приготовление пельменей!\n"
     ]
    }
   ],
   "source": [
    "print(response.json()['message']['content'])"
   ]
  },
  {
   "cell_type": "code",
   "execution_count": 1,
   "metadata": {},
   "outputs": [],
   "source": [
    "a = \"\"\"\n",
    "Написать эссе на более чем 4000 символах — это действительно интересная задача. Для начала я бы хотела сказать, что у меня все в порядке. Я чувствую себя готовой и готова приступить к написанию этого большого текста. Однако мне необходимо учитывать направленность, стиль и цель эссе, поскольку все эти аспекты будут определять содержание и структуру работы. Чтобы начать, давайте определимся в том, что такое эссе. Эссе — это произведение, которое имеет определенный объём и содержит мыслительные рассуждения о конкретной теме или проблеме. В более широком смысле оно может быть использовано для анализа, сравнения, выдвижения гипотез, подачи точек зрения и т. д. Теперь давайте подумаем о том, что нужно сделать, чтобы написать эссе на 4000+ символах. Во-первых, нам необходимо определить предмет или проблему, вокруг которой мы будем строить нашу работу. Важно четко сформулировать вопрос или задачу, которую мы хотим решить или проанализировать. После определения предмета следующим шагом является создание плана или структуры эссе. Это может включать в себя: * Обоснование (предисловие) * Анализ проблемы * Описание подхода или метода, используемого для решения этой проблемы * Выводы и заключение В каждом из этих разделов нам необходимо четко и логически подходить к представлению своих мыслей. Например, если вы пишете об экономической ситуации в стране, структура эссе может быть следующая: 1. Обоснование 2. Анализ нынешней ситуации в экономике 3. Описание мер и шагов, которые могут привести к улучшению экономического состояния страны. 4. Выводы Есть также некоторые важные моменты, которые нужно учитывать при написании эссе на таком большом объеме: * Используйте простое язык и четкую структуру, чтобы читатель легко мог понимать вашу мысль. * Уделите время на редактирование и корректировку вашего текста перед подачей на проверку или публикации. * Обязательно проверяйте ссылки и источники, если вы предполагаете использовать их в своей работе.\n",
    "\"\"\""
   ]
  },
  {
   "cell_type": "code",
   "execution_count": null,
   "metadata": {},
   "outputs": [],
   "source": [
    "import requests as rq\n",
    "\n",
    "configs = {\n",
    "    \"model\": \"llama3.1\",\n",
    "    \"messages\": [\n",
    "        {\n",
    "            \"role\": \"user\",\n",
    "            \"content\": \"Привет. Запомни, что Орешник - ракетная установка средней дальности.\"\n",
    "        },\n",
    "        {\n",
    "            'role': 'assistant',\n",
    "            'content': 'Хорошо!'\n",
    "        },\n",
    "        {\n",
    "            \"role\": \"user\",\n",
    "            \"content\": \"Что мы обсуждали ранее?\"\n",
    "        },\n",
    "    ],\n",
    "\n",
    "\n",
    "    'stream' : False}\n",
    "\n",
    "# proto = 'https'\n",
    "proto = 'https'\n",
    "\n",
    "# url = 'proxy51.rt3.io:39571'\n",
    "# url = 'proxy150.r3proxy.com:33059'\n",
    "# url = 'localhost:11435'\n",
    "url = 'localhost'"
   ]
  },
  {
   "cell_type": "code",
   "execution_count": null,
   "metadata": {},
   "outputs": [
    {
     "name": "stderr",
     "output_type": "stream",
     "text": [
      "j:\\SelfWrited\\University\\7_semester_project\\.venv\\Lib\\site-packages\\urllib3\\connectionpool.py:1099: InsecureRequestWarning: Unverified HTTPS request is being made to host 'localhost'. Adding certificate verification is strongly advised. See: https://urllib3.readthedocs.io/en/latest/advanced-usage.html#tls-warnings\n",
      "  warnings.warn(\n"
     ]
    },
    {
     "data": {
      "text/plain": [
       "<Response [200]>"
      ]
     },
     "metadata": {},
     "output_type": "display_data"
    }
   ],
   "source": [
    "response = rq.post(f'{proto}://{url}/api/chat', json=configs, verify=False)\n",
    "response"
   ]
  },
  {
   "cell_type": "code",
   "execution_count": 2,
   "metadata": {},
   "outputs": [
    {
     "data": {
      "text/plain": [
       "1961"
      ]
     },
     "execution_count": 2,
     "metadata": {},
     "output_type": "execute_result"
    }
   ],
   "source": [
    "len(a)"
   ]
  },
  {
   "cell_type": "markdown",
   "metadata": {},
   "source": [
    "---"
   ]
  },
  {
   "cell_type": "code",
   "execution_count": 1,
   "metadata": {},
   "outputs": [
    {
     "data": {
      "text/plain": [
       "True"
      ]
     },
     "execution_count": 1,
     "metadata": {},
     "output_type": "execute_result"
    }
   ],
   "source": [
    "import psycopg2 as psql\n",
    "import dotenv\n",
    "from dotenv import load_dotenv\n",
    "ENV_PATH = '../../configs/.env'\n",
    "load_dotenv(ENV_PATH, override=True)"
   ]
  },
  {
   "cell_type": "code",
   "execution_count": 2,
   "metadata": {},
   "outputs": [],
   "source": [
    "DB_CONFIG = {\n",
    "    'dbname': dotenv.get_key(ENV_PATH, 'DB_NAME'),\n",
    "    'user': dotenv.get_key(ENV_PATH, 'DB_USER'),\n",
    "    'password':dotenv.get_key(ENV_PATH, 'DB_PASSWORD'),\n",
    "    'host': 'localhost',  \n",
    "    'port': dotenv.get_key(ENV_PATH, 'DB_PORT')          \n",
    "}\n",
    "\n",
    "connection = psql.connect(**DB_CONFIG)\n",
    "cursor = connection.cursor()"
   ]
  },
  {
   "cell_type": "code",
   "execution_count": 23,
   "metadata": {},
   "outputs": [],
   "source": [
    "def drop_tables():\n",
    "    cursor.execute('drop table \"USERS\";')\n",
    "    cursor.execute('drop table \"CHATS\";')\n",
    "    connection.commit()\n",
    "\n",
    "def build_tables():\n",
    "    # cursor.execute(\"\"\"CREATE TABLE IF NOT EXISTS \"USERS\" (\n",
    "    #             id TEXT PRIMARY KEY,\n",
    "    #             chats JSONB DEFAULT '[]'::jsonb\n",
    "    #            )\"\"\")\n",
    "\n",
    "    cursor.execute(\"\"\"CREATE TABLE IF NOT EXISTS \"USERS\" (\n",
    "            id TEXT PRIMARY KEY,\n",
    "            chats TEXT[] DEFAULT '{}'\n",
    "            )\"\"\")\n",
    "\n",
    "    cursor.execute(\"\"\"CREATE TABLE IF NOT EXISTS \"CHATS\" (\n",
    "                chat_id TEXT,\n",
    "                role TEXT,\n",
    "                message TEXT\n",
    "               )\"\"\")\n",
    "    connection.commit()\n",
    "\n",
    "def rebuild_tables():\n",
    "    drop_tables()\n",
    "    build_tables()\n",
    "    "
   ]
  },
  {
   "cell_type": "code",
   "execution_count": 24,
   "metadata": {},
   "outputs": [],
   "source": [
    "connection.commit()"
   ]
  },
  {
   "cell_type": "code",
   "execution_count": 25,
   "metadata": {},
   "outputs": [],
   "source": [
    "build_tables()"
   ]
  },
  {
   "cell_type": "code",
   "execution_count": 26,
   "metadata": {},
   "outputs": [],
   "source": [
    "rebuild_tables()"
   ]
  },
  {
   "cell_type": "markdown",
   "metadata": {},
   "source": [
    "---"
   ]
  },
  {
   "cell_type": "code",
   "execution_count": 17,
   "metadata": {},
   "outputs": [
    {
     "name": "stderr",
     "output_type": "stream",
     "text": [
      "j:\\SelfWrited\\University\\7_semester_project\\.venv\\Lib\\site-packages\\urllib3\\connectionpool.py:1099: InsecureRequestWarning: Unverified HTTPS request is being made to host 'localhost'. Adding certificate verification is strongly advised. See: https://urllib3.readthedocs.io/en/latest/advanced-usage.html#tls-warnings\n",
      "  warnings.warn(\n"
     ]
    }
   ],
   "source": [
    "response = rq.get('https://localhost/api/back/get_chats4user?uuid=e41a2335-de5f-4f83-a91a-b713a0f00ca0', verify=False)"
   ]
  },
  {
   "cell_type": "code",
   "execution_count": 18,
   "metadata": {},
   "outputs": [
    {
     "name": "stdout",
     "output_type": "stream",
     "text": [
      "\n"
     ]
    }
   ],
   "source": [
    "print(response.text)"
   ]
  },
  {
   "cell_type": "code",
   "execution_count": 19,
   "metadata": {},
   "outputs": [
    {
     "ename": "JSONDecodeError",
     "evalue": "Expecting value: line 1 column 1 (char 0)",
     "output_type": "error",
     "traceback": [
      "\u001b[1;31m---------------------------------------------------------------------------\u001b[0m",
      "\u001b[1;31mJSONDecodeError\u001b[0m                           Traceback (most recent call last)",
      "File \u001b[1;32mj:\\SelfWrited\\University\\7_semester_project\\.venv\\Lib\\site-packages\\requests\\models.py:974\u001b[0m, in \u001b[0;36mResponse.json\u001b[1;34m(self, **kwargs)\u001b[0m\n\u001b[0;32m    973\u001b[0m \u001b[38;5;28;01mtry\u001b[39;00m:\n\u001b[1;32m--> 974\u001b[0m     \u001b[38;5;28;01mreturn\u001b[39;00m \u001b[43mcomplexjson\u001b[49m\u001b[38;5;241;43m.\u001b[39;49m\u001b[43mloads\u001b[49m\u001b[43m(\u001b[49m\u001b[38;5;28;43mself\u001b[39;49m\u001b[38;5;241;43m.\u001b[39;49m\u001b[43mtext\u001b[49m\u001b[43m,\u001b[49m\u001b[43m \u001b[49m\u001b[38;5;241;43m*\u001b[39;49m\u001b[38;5;241;43m*\u001b[39;49m\u001b[43mkwargs\u001b[49m\u001b[43m)\u001b[49m\n\u001b[0;32m    975\u001b[0m \u001b[38;5;28;01mexcept\u001b[39;00m JSONDecodeError \u001b[38;5;28;01mas\u001b[39;00m e:\n\u001b[0;32m    976\u001b[0m     \u001b[38;5;66;03m# Catch JSON-related errors and raise as requests.JSONDecodeError\u001b[39;00m\n\u001b[0;32m    977\u001b[0m     \u001b[38;5;66;03m# This aliases json.JSONDecodeError and simplejson.JSONDecodeError\u001b[39;00m\n",
      "File \u001b[1;32m~\\.pyenv\\pyenv-win\\versions\\3.12.5\\Lib\\json\\__init__.py:346\u001b[0m, in \u001b[0;36mloads\u001b[1;34m(s, cls, object_hook, parse_float, parse_int, parse_constant, object_pairs_hook, **kw)\u001b[0m\n\u001b[0;32m    343\u001b[0m \u001b[38;5;28;01mif\u001b[39;00m (\u001b[38;5;28mcls\u001b[39m \u001b[38;5;129;01mis\u001b[39;00m \u001b[38;5;28;01mNone\u001b[39;00m \u001b[38;5;129;01mand\u001b[39;00m object_hook \u001b[38;5;129;01mis\u001b[39;00m \u001b[38;5;28;01mNone\u001b[39;00m \u001b[38;5;129;01mand\u001b[39;00m\n\u001b[0;32m    344\u001b[0m         parse_int \u001b[38;5;129;01mis\u001b[39;00m \u001b[38;5;28;01mNone\u001b[39;00m \u001b[38;5;129;01mand\u001b[39;00m parse_float \u001b[38;5;129;01mis\u001b[39;00m \u001b[38;5;28;01mNone\u001b[39;00m \u001b[38;5;129;01mand\u001b[39;00m\n\u001b[0;32m    345\u001b[0m         parse_constant \u001b[38;5;129;01mis\u001b[39;00m \u001b[38;5;28;01mNone\u001b[39;00m \u001b[38;5;129;01mand\u001b[39;00m object_pairs_hook \u001b[38;5;129;01mis\u001b[39;00m \u001b[38;5;28;01mNone\u001b[39;00m \u001b[38;5;129;01mand\u001b[39;00m \u001b[38;5;129;01mnot\u001b[39;00m kw):\n\u001b[1;32m--> 346\u001b[0m     \u001b[38;5;28;01mreturn\u001b[39;00m \u001b[43m_default_decoder\u001b[49m\u001b[38;5;241;43m.\u001b[39;49m\u001b[43mdecode\u001b[49m\u001b[43m(\u001b[49m\u001b[43ms\u001b[49m\u001b[43m)\u001b[49m\n\u001b[0;32m    347\u001b[0m \u001b[38;5;28;01mif\u001b[39;00m \u001b[38;5;28mcls\u001b[39m \u001b[38;5;129;01mis\u001b[39;00m \u001b[38;5;28;01mNone\u001b[39;00m:\n",
      "File \u001b[1;32m~\\.pyenv\\pyenv-win\\versions\\3.12.5\\Lib\\json\\decoder.py:337\u001b[0m, in \u001b[0;36mJSONDecoder.decode\u001b[1;34m(self, s, _w)\u001b[0m\n\u001b[0;32m    333\u001b[0m \u001b[38;5;250m\u001b[39m\u001b[38;5;124;03m\"\"\"Return the Python representation of ``s`` (a ``str`` instance\u001b[39;00m\n\u001b[0;32m    334\u001b[0m \u001b[38;5;124;03mcontaining a JSON document).\u001b[39;00m\n\u001b[0;32m    335\u001b[0m \n\u001b[0;32m    336\u001b[0m \u001b[38;5;124;03m\"\"\"\u001b[39;00m\n\u001b[1;32m--> 337\u001b[0m obj, end \u001b[38;5;241m=\u001b[39m \u001b[38;5;28;43mself\u001b[39;49m\u001b[38;5;241;43m.\u001b[39;49m\u001b[43mraw_decode\u001b[49m\u001b[43m(\u001b[49m\u001b[43ms\u001b[49m\u001b[43m,\u001b[49m\u001b[43m \u001b[49m\u001b[43midx\u001b[49m\u001b[38;5;241;43m=\u001b[39;49m\u001b[43m_w\u001b[49m\u001b[43m(\u001b[49m\u001b[43ms\u001b[49m\u001b[43m,\u001b[49m\u001b[43m \u001b[49m\u001b[38;5;241;43m0\u001b[39;49m\u001b[43m)\u001b[49m\u001b[38;5;241;43m.\u001b[39;49m\u001b[43mend\u001b[49m\u001b[43m(\u001b[49m\u001b[43m)\u001b[49m\u001b[43m)\u001b[49m\n\u001b[0;32m    338\u001b[0m end \u001b[38;5;241m=\u001b[39m _w(s, end)\u001b[38;5;241m.\u001b[39mend()\n",
      "File \u001b[1;32m~\\.pyenv\\pyenv-win\\versions\\3.12.5\\Lib\\json\\decoder.py:355\u001b[0m, in \u001b[0;36mJSONDecoder.raw_decode\u001b[1;34m(self, s, idx)\u001b[0m\n\u001b[0;32m    354\u001b[0m \u001b[38;5;28;01mexcept\u001b[39;00m \u001b[38;5;167;01mStopIteration\u001b[39;00m \u001b[38;5;28;01mas\u001b[39;00m err:\n\u001b[1;32m--> 355\u001b[0m     \u001b[38;5;28;01mraise\u001b[39;00m JSONDecodeError(\u001b[38;5;124m\"\u001b[39m\u001b[38;5;124mExpecting value\u001b[39m\u001b[38;5;124m\"\u001b[39m, s, err\u001b[38;5;241m.\u001b[39mvalue) \u001b[38;5;28;01mfrom\u001b[39;00m \u001b[38;5;28;01mNone\u001b[39;00m\n\u001b[0;32m    356\u001b[0m \u001b[38;5;28;01mreturn\u001b[39;00m obj, end\n",
      "\u001b[1;31mJSONDecodeError\u001b[0m: Expecting value: line 1 column 1 (char 0)",
      "\nDuring handling of the above exception, another exception occurred:\n",
      "\u001b[1;31mJSONDecodeError\u001b[0m                           Traceback (most recent call last)",
      "Cell \u001b[1;32mIn[19], line 1\u001b[0m\n\u001b[1;32m----> 1\u001b[0m \u001b[43mresponse\u001b[49m\u001b[38;5;241;43m.\u001b[39;49m\u001b[43mjson\u001b[49m\u001b[43m(\u001b[49m\u001b[43m)\u001b[49m\n",
      "File \u001b[1;32mj:\\SelfWrited\\University\\7_semester_project\\.venv\\Lib\\site-packages\\requests\\models.py:978\u001b[0m, in \u001b[0;36mResponse.json\u001b[1;34m(self, **kwargs)\u001b[0m\n\u001b[0;32m    974\u001b[0m     \u001b[38;5;28;01mreturn\u001b[39;00m complexjson\u001b[38;5;241m.\u001b[39mloads(\u001b[38;5;28mself\u001b[39m\u001b[38;5;241m.\u001b[39mtext, \u001b[38;5;241m*\u001b[39m\u001b[38;5;241m*\u001b[39mkwargs)\n\u001b[0;32m    975\u001b[0m \u001b[38;5;28;01mexcept\u001b[39;00m JSONDecodeError \u001b[38;5;28;01mas\u001b[39;00m e:\n\u001b[0;32m    976\u001b[0m     \u001b[38;5;66;03m# Catch JSON-related errors and raise as requests.JSONDecodeError\u001b[39;00m\n\u001b[0;32m    977\u001b[0m     \u001b[38;5;66;03m# This aliases json.JSONDecodeError and simplejson.JSONDecodeError\u001b[39;00m\n\u001b[1;32m--> 978\u001b[0m     \u001b[38;5;28;01mraise\u001b[39;00m RequestsJSONDecodeError(e\u001b[38;5;241m.\u001b[39mmsg, e\u001b[38;5;241m.\u001b[39mdoc, e\u001b[38;5;241m.\u001b[39mpos)\n",
      "\u001b[1;31mJSONDecodeError\u001b[0m: Expecting value: line 1 column 1 (char 0)"
     ]
    }
   ],
   "source": [
    "response.json()"
   ]
  },
  {
   "cell_type": "code",
   "execution_count": 68,
   "metadata": {},
   "outputs": [
    {
     "data": {
      "text/plain": [
       "[('e41a2335-de5f-4f83-a91a-b713a0f00ca0', []),\n",
       " ('37c0b625-b839-4938-a080-50407831b23e', [])]"
      ]
     },
     "execution_count": 68,
     "metadata": {},
     "output_type": "execute_result"
    }
   ],
   "source": [
    "cursor.execute('SELECT * FROM \"USERS\"')\n",
    "cursor.fetchall()"
   ]
  }
 ],
 "metadata": {
  "kernelspec": {
   "display_name": ".venv",
   "language": "python",
   "name": "python3"
  },
  "language_info": {
   "codemirror_mode": {
    "name": "ipython",
    "version": 3
   },
   "file_extension": ".py",
   "mimetype": "text/x-python",
   "name": "python",
   "nbconvert_exporter": "python",
   "pygments_lexer": "ipython3",
   "version": "3.12.5"
  }
 },
 "nbformat": 4,
 "nbformat_minor": 2
}
